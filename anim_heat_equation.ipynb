{
 "cells": [
  {
   "cell_type": "markdown",
   "metadata": {
    "colab_type": "text",
    "id": "rFo0oydepCHG"
   },
   "source": [
    "# Tworzenie animacji przewodnictwa cieplnego\n",
    "### Autorzy: Bartosz Rydziński, Mateusz Anikiej, Aleksander Obuchowski\n",
    "### Projekt na Obliczenia Symboliczne\n",
    "* Format .ipynb został zastosowany dla wygody opisu i może nie wyświetlać prawidłowo animacji, załączamy również plik .py."
   ]
  },
  {
   "cell_type": "markdown",
   "metadata": {
    "colab_type": "text",
    "id": "eVdKFrZyoiaa"
   },
   "source": [
    "## Wczytywanie bibliotek języka Python."
   ]
  },
  {
   "cell_type": "code",
   "execution_count": 1,
   "metadata": {
    "colab": {},
    "colab_type": "code",
    "id": "xG5gc5AeiMzi"
   },
   "outputs": [],
   "source": [
    "import math\n",
    "import matplotlib.pyplot as plt\n",
    "import matplotlib.animation as animation"
   ]
  },
  {
   "cell_type": "markdown",
   "metadata": {
    "colab_type": "text",
    "id": "dozQKP2yjBHp"
   },
   "source": [
    "## Funkcja Gaussa\n",
    "$min$ - początek przedziału, \n",
    "$max$ - ostatni element, \n",
    "$step$ - krok"
   ]
  },
  {
   "cell_type": "code",
   "execution_count": 2,
   "metadata": {
    "colab": {},
    "colab_type": "code",
    "id": "tnm0cgA5iPUQ"
   },
   "outputs": [],
   "source": [
    "def generate_gauss(min, max, step):\n",
    "    x0 = int((min+max)/2)\n",
    "\n",
    "    ran = int(((max - min) / step))\n",
    "\t#obliczanie ilości kroków\n",
    "    steps = [min + step*i for i in range(1, ran+1)]\n",
    "\t#tworzenie listy steps, gdzie dla ilości kroków przechowujemy dany krok jako minimum + (numer_iteracji) * krok\n",
    "\t\n",
    "    inp = []\n",
    "    for x in steps:\n",
    "        inp.append(math.exp(-1 * ((x - x0) * (x - x0))))\n",
    "\t #zwracamy obliczone wartości oraz dla wygody podany krok\n",
    "    return inp, step"
   ]
  },
  {
   "cell_type": "markdown",
   "metadata": {
    "colab_type": "text",
    "id": "9JZLpe8dipii"
   },
   "source": [
    "Dla każdego elementu tablicy steps obliczamy wartość funkcji Gaussa jako: $e^{- (x - x_0)^2}$ \\\\\n",
    "Gdzie $x$ - dany krok, $x_0$ - środek przedziału."
   ]
  },
  {
   "cell_type": "markdown",
   "metadata": {
    "colab_type": "text",
    "id": "QviAUD1ajJJP"
   },
   "source": [
    "## Funkcja przewodnictwa cieplnego\n",
    "$U_t = a * U_{xx}$ \\\\\n",
    "$u_i$ - lista elementów generowanych funkcją Gaussa (elementy początkowe) \\\\\n",
    "$a$ - współczynnik przewodnictwa, $tau (\\tau)$ - krok czasowy, $h$ - krok"
   ]
  },
  {
   "cell_type": "code",
   "execution_count": 3,
   "metadata": {
    "colab": {},
    "colab_type": "code",
    "id": "DBOg7bugiPOb"
   },
   "outputs": [],
   "source": [
    "def thermal_conductivity(ui, a, tau, h):\n",
    "    denom = (1/(tau / 2)) + (2 / (h * h))\n",
    "\t  #denom - dzielnik używany w funkcji (*d*)\n",
    "\n",
    "    res = [[i] for i in ui]\n",
    "    #tworzenie listy zawierającej jednoelementowe listy, będące kolejnymi elementami ui\n",
    "    \n",
    "    for j in range(1, len(ui) * 5):\n",
    "        for i in range(len(res)):\n",
    "          #dwie pętle przechodzące odpowiednio po indeksach i oraz j.\n",
    "          \n",
    "            if i == 0:\n",
    "              #dla pierwszego elementu bierzemy 0 w miejscu res[i-1][j-1] (*)\n",
    "                uj = ((res[i][j-1] / (tau / 2) ) + ((res[i+1][j-1]) / (h * h))) / denom\n",
    "\n",
    "            if i == len(res) - 1:\n",
    "              # dla ostatniego elementu bierzemy 0 w miejscu res[i+1][j-1] (**)\n",
    "                uj = ((res[i][j-1] / (tau / 2) ) + ((res[i-1][j-1]) / (h*h))) / denom\n",
    "\n",
    "            else:\n",
    "              # w każdym innym przypadku stosujemy pełną funkcję (***)\n",
    "                uj = ((res[i][j-1] / (tau / 2) ) + ((res[i+1][j-1] + res[i-1][j-1]) / (h * h))) / denom\n",
    "\n",
    "            res[i].append(uj)       \n",
    "            #wszystkie elementy przechowujemy w liście res\n",
    "        \n",
    "\n",
    "    uji = []\n",
    "    for i in res:\n",
    "        uji.append(a * i[-1])\n",
    "        #każdy element listy res mnożymy przez współczynnik a i zapisujemy w liście uji\n",
    "    t = [tau * i for i in range(len(uji))]\n",
    "    #tworzymy listę kroków czasowych (tau * i)\n",
    "    #zwracamy listy uji oraz t\n",
    "    return uji, t"
   ]
  },
  {
   "cell_type": "markdown",
   "metadata": {
    "colab_type": "text",
    "id": "GHUntjaKksUX"
   },
   "source": [
    "$(*d*) \\quad denom = \\frac{1}{\\frac{tau}{2}} + \\frac{2}{h^2}$ \\\\\n",
    "$(*) \\quad U_j = \\left( \\frac{res_i^{j-1}}{\\frac{tau}{2}} + \\frac{res_{i+1}^{j-1}}{h^2} \\right) * \\frac{1}{denom}$ \\\\\n",
    "$(**) \\quad U_j = \\left( \\frac{res_i^{j-1}}{\\frac{tau}{2}} + \\frac{res_{i-1}^{j-1}}{h^2} \\right) * \\frac{1}{denom}$ \\\\\n",
    "$(***) \\quad U_j = \\left( \\frac{res_i^{j-1}}{\\frac{tau}{2}} + \\frac{res_{i+1}^{j-1} + res_{i-1}^{j+1}}{h^2} \\right) * \\frac{1}{denom}$"
   ]
  },
  {
   "cell_type": "markdown",
   "metadata": {
    "colab_type": "text",
    "id": "KtTS1TTzqmXx"
   },
   "source": [
    "## Generowanie wartości początkowych"
   ]
  },
  {
   "cell_type": "code",
   "execution_count": 4,
   "metadata": {
    "colab": {},
    "colab_type": "code",
    "id": "V-WnFLxMiYOX"
   },
   "outputs": [],
   "source": [
    "x = []\n",
    "for i in range(1, 31):\n",
    "    x.append(generate_gauss(0, 10, .5 / i))\n",
    "#tworzymy listę list zawierających wartości funkcji Gaussa dla kroków (*)\n",
    "x.reverse()\n",
    "#odwracamy listę, aby otrzymać odpowiednią kolejność wyrazów przy animacji"
   ]
  },
  {
   "cell_type": "markdown",
   "metadata": {
    "colab_type": "text",
    "id": "GkgIF8NUm4Pv"
   },
   "source": [
    "$(*)$ \\\\\n",
    "Pierwszy krok: $ \\frac{0.5}{1} = 0.5$ \\\\\n",
    "Drugi krok: $ \\frac{0.5}{2} = 0.25$ \\\\\n",
    "$...$ \\\\\n",
    "Ostatni krok: $\\frac{0.5}{30} \\approx 0.0167$ "
   ]
  },
  {
   "cell_type": "markdown",
   "metadata": {
    "colab_type": "text",
    "id": "vEN-CJycncBh"
   },
   "source": [
    "## Funkcja animacji\n",
    "$i$ - indeks \\\\\n",
    "Funkcja nie zwraca żadnych wartości, polega na metodach matplotlib.animation."
   ]
  },
  {
   "cell_type": "code",
   "execution_count": 5,
   "metadata": {
    "colab": {},
    "colab_type": "code",
    "id": "qcVdHLV8ia7S"
   },
   "outputs": [],
   "source": [
    "def animate(i):\n",
    "    y = thermal_conductivity(x[ i % len(x) ][0], 1.7, x[ i % len(x) ][1], .01)\n",
    "    #stosujemy funkcję przewodnictwa cieplnego po kolei dla elementów listy x,\n",
    "    # operacja modulo % w indeksie została zastosowana, aby uniknąc błędów\n",
    "    #  i spowodować zapętlenie animacji.\n",
    "    \n",
    "    ax1.clear()\n",
    "    # przy każdym kroku oczyszczamy oś z poprzedniego wykresu\n",
    "    \n",
    "    ax1.plot( y[1], y[0] )\n",
    "    # rysowanie na wykresie wartości y[1] (lista uji z funkcji przewodnictwa cieplnego)\n",
    "    # oraz y[0] (lista kroków czasowych)\n",
    "    \n",
    "    plt.axis([0, 10, 0, 1])\n",
    "    plt.xlabel(\"X\")\n",
    "    plt.ylabel(\"Temperatura\")\n",
    "    plt.title(\"Rozchodzenie się ciepła\")"
   ]
  },
  {
   "cell_type": "markdown",
   "metadata": {
    "colab_type": "text",
    "id": "6xj4PskfodPQ"
   },
   "source": [
    "## Tworzenie animacji"
   ]
  },
  {
   "cell_type": "code",
   "execution_count": 6,
   "metadata": {
    "colab": {
     "base_uri": "https://localhost:8080/",
     "height": 295
    },
    "colab_type": "code",
    "executionInfo": {
     "elapsed": 2358,
     "status": "ok",
     "timestamp": 1559671020761,
     "user": {
      "displayName": "Notheryne",
      "photoUrl": "",
      "userId": "07099107331681534432"
     },
     "user_tz": -120
    },
    "id": "9Qu_h-eNiLhr",
    "outputId": "671fcd09-fdb3-4210-d11d-4e3d37e09f90"
   },
   "outputs": [
    {
     "data": {
      "image/png": "[encoded data removed]",
      "text/plain": [
       "<Figure size 432x288 with 1 Axes>"
      ]
     },
     "metadata": {
      "needs_background": "light"
     },
     "output_type": "display_data"
    }
   ],
   "source": [
    "fig = plt.figure()\n",
    "# inicjalizowanie figury\n",
    "ax1 = fig.add_subplot(1,1,1)\n",
    "# dodawanie subplotu z 1 kolumną, 1 rzędem i o indeksie 1\n",
    "\n",
    "ani = animation.FuncAnimation(fig, animate, interval = 800)\n",
    "# wywołanie funkcji animacji\n",
    "plt.show()\n",
    "# wywołanie animacji na ekran"
   ]
  },
  {
   "cell_type": "code",
   "execution_count": null,
   "metadata": {},
   "outputs": [],
   "source": []
  }
 ],
 "metadata": {
  "colab": {
   "name": "anim_heat_equation.ipynb",
   "provenance": [],
   "version": "0.3.2"
  },
  "kernelspec": {
   "display_name": "Python 3",
   "language": "python",
   "name": "python3"
  },
  "language_info": {
   "codemirror_mode": {
    "name": "ipython",
    "version": 3
   },
   "file_extension": ".py",
   "mimetype": "text/x-python",
   "name": "python",
   "nbconvert_exporter": "python",
   "pygments_lexer": "ipython3",
   "version": "3.7.1"
  }
 },
 "nbformat": 4,
 "nbformat_minor": 1
}
